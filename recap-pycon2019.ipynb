{
 "cells": [
  {
   "cell_type": "markdown",
   "metadata": {
    "slideshow": {
     "slide_type": "notes"
    }
   },
   "source": [
    "To play slideshow, run this command in the terminal:\n",
    "```\n",
    "$ jupyter nbconvert recap-pycon2019.ipynb --to slides --post serve --SlidesExporter.reveal_transition=none\n",
    "```"
   ]
  },
  {
   "cell_type": "markdown",
   "metadata": {
    "slideshow": {
     "slide_type": "slide"
    }
   },
   "source": [
    "![pycon-2019-logo](https://cdn-blog.adafruit.com/uploads/2019/03/pyconblog-1.jpg)\n",
    "\n",
    "A Recap of Cool Things Learned in Cleveland."
   ]
  },
  {
   "cell_type": "markdown",
   "metadata": {
    "slideshow": {
     "slide_type": "slide"
    }
   },
   "source": [
    "## What is PyCon?\n",
    "\n",
    "PyCon = 2 days tutorials + 3 days talks + 4 days developer sprints\n",
    "\n",
    "also, many parallel open spaces for informal meetups on diverse topics, the Annual PyLadies Auction, Fun Run, and more...\n",
    "\n",
    "<img src=\"img/pycon_exhibit_hall.jpg\" style=\"width: 500px;\">"
   ]
  },
  {
   "cell_type": "markdown",
   "metadata": {
    "slideshow": {
     "slide_type": "slide"
    }
   },
   "source": [
    "## PyLadies Auction\n",
    "\n",
    "The annual auction raised over \\\\$40K for PyLadies to continue supporting women who code!\n",
    "\n",
    "<table><tr>\n",
    "\n",
    "<td>\n",
    "<img src=\"https://2.bp.blogspot.com/-cemAydh7BiA/WcPSJ1VpxvI/AAAAAAAABfU/SV1O7wfNLmQwZERf5HPrQpvpnz8giljNACLcBGAs/s1600/lynn-jackie-charity.jpg\" style=\"width: 500px;\">\n",
    "</td>\n",
    "\n",
    "<td>\n",
    "<img src=\"https://devblogs.microsoft.com/wp-content/uploads/sites/12/2019/02/6_PyLadies.png\" style=\"width: 300px;\">\n",
    "<img src=\"https://s3.amazonaws.com/pycon-assets/2019/images/2018/10/01/42300351615_b664bc094d_z.jpg\" style=\"width: 150px;\">\n",
    "</td>\n",
    "\n",
    "</tr></table>"
   ]
  },
  {
   "cell_type": "markdown",
   "metadata": {
    "slideshow": {
     "slide_type": "slide"
    }
   },
   "source": [
    "## PyLadies Auction\n",
    "\n",
    "The prize of the night was this painting of Guido, donated by capital one...\n",
    "\n",
    "<img src=\"https://i.imgur.com/okEdGXI.jpg\" style=\"width: 500px;\">"
   ]
  },
  {
   "cell_type": "markdown",
   "metadata": {
    "slideshow": {
     "slide_type": "slide"
    }
   },
   "source": [
    "## PyLadies Auction\n",
    "\n",
    "The prize of the night was this painting of Guido, donated by capital one... which went for \\\\$9,001 after an epic auctioning battle.\n",
    "\n",
    "<img src=\"https://i.imgur.com/No1gdoQ.jpg\" style=\"width: 400px;\">"
   ]
  },
  {
   "cell_type": "markdown",
   "metadata": {
    "slideshow": {
     "slide_type": "slide"
    }
   },
   "source": [
    "# API Evolution the Right Way\n",
    "\n",
    "### A. Jesse Jiryu Davis\n",
    "\n",
    "Staff Engineer at MongoDB in New York City specializing in C, Python, and async. Author of Motor, an async MongoDB driver for Tornado and asyncio. Contributor to Python, MongoDB, Tornado, and asyncio. Co-author with Guido van Rossum of \"A Web Crawler With asyncio Coroutines\", a chapter in the \"500 Lines or Less\" book in the Architecture of Open Source Applications series."
   ]
  },
  {
   "cell_type": "markdown",
   "metadata": {
    "slideshow": {
     "slide_type": "slide"
    }
   },
   "source": [
    "## Covenant 1. Avoid Adding Bad Features\n",
    "\n",
    "Example: in Python 2 `datetime.time` evaluated to True at all times except at time 0 (midnight)."
   ]
  },
  {
   "cell_type": "code",
   "execution_count": 1,
   "metadata": {
    "ExecuteTime": {
     "end_time": "2019-06-26T21:19:40.875877Z",
     "start_time": "2019-06-26T21:19:40.871389Z"
    },
    "slideshow": {
     "slide_type": "fragment"
    }
   },
   "outputs": [
    {
     "name": "stdout",
     "output_type": "stream",
     "text": [
      "9:30am is true\n",
      "midnight is true\n"
     ]
    }
   ],
   "source": [
    "import datetime\n",
    "\n",
    "if datetime.time(9, 30):\n",
    "    print('9:30am is true')\n",
    "    \n",
    "if datetime.time(0, 0):\n",
    "    print('midnight is true')  # True in Python 3"
   ]
  },
  {
   "cell_type": "markdown",
   "metadata": {
    "slideshow": {
     "slide_type": "slide"
    }
   },
   "source": [
    "## Covenant 2. Minimize Features\n",
    "\n",
    "- \"Features are like children: conceived of in a moment of passion, they must be supported for years\"\n",
    "- Do not add features unless they are well motivated/necessary"
   ]
  },
  {
   "cell_type": "markdown",
   "metadata": {
    "slideshow": {
     "slide_type": "slide"
    }
   },
   "source": [
    "## Covenant 3. Keep Features Narrow\n",
    "\n",
    "Contradicts common teachings that your code should solve very general problems. In his experience its best to only solve very specific user issues, so features don't become too powerful and get used in the wrong ways."
   ]
  },
  {
   "cell_type": "markdown",
   "metadata": {
    "slideshow": {
     "slide_type": "slide"
    }
   },
   "source": [
    "## Covenant 4. Mark Experimental Features \"Provisional\"\n",
    "\n",
    "Controversial practice to release features like this to get user feedback. Some people hate this."
   ]
  },
  {
   "cell_type": "markdown",
   "metadata": {
    "slideshow": {
     "slide_type": "slide"
    }
   },
   "source": [
    "# Deleting Features\n",
    "\n",
    "You discovered it was a bad idea or the ecosystem around your package changes and you need to adapt.\n",
    "\n",
    "Cons\n",
    "- User code must change\n",
    "- User logic must change\n",
    "\n",
    "Pros\n",
    "- Change is mechanical\n",
    "- Feature is dangerous"
   ]
  },
  {
   "cell_type": "markdown",
   "metadata": {
    "slideshow": {
     "slide_type": "slide"
    }
   },
   "source": [
    "# Deleting Features"
   ]
  },
  {
   "cell_type": "code",
   "execution_count": 2,
   "metadata": {
    "ExecuteTime": {
     "end_time": "2019-06-26T21:19:49.594311Z",
     "start_time": "2019-06-26T21:19:49.591388Z"
    },
    "slideshow": {
     "slide_type": "fragment"
    }
   },
   "outputs": [],
   "source": [
    "# Example: we want to delete the legs feature so our\n",
    "# lizard creature will be a snake and can no longer walk...\n",
    "\n",
    "class Reptile:\n",
    "    def walk(self):\n",
    "        print('step step step')"
   ]
  },
  {
   "cell_type": "code",
   "execution_count": 3,
   "metadata": {
    "ExecuteTime": {
     "end_time": "2019-06-26T21:19:52.360670Z",
     "start_time": "2019-06-26T21:19:52.358106Z"
    },
    "slideshow": {
     "slide_type": "fragment"
    }
   },
   "outputs": [],
   "source": [
    "# Do we just replace walk with slither?\n",
    "\n",
    "class Reptile:\n",
    "    def slither(self):\n",
    "        print('slide slide slide')"
   ]
  },
  {
   "cell_type": "code",
   "execution_count": 4,
   "metadata": {
    "ExecuteTime": {
     "end_time": "2019-06-26T21:19:53.059725Z",
     "start_time": "2019-06-26T21:19:52.981858Z"
    },
    "slideshow": {
     "slide_type": "fragment"
    }
   },
   "outputs": [
    {
     "ename": "AttributeError",
     "evalue": "'Reptile' object has no attribute 'walk'",
     "output_type": "error",
     "traceback": [
      "\u001b[0;31m---------------------------------------------------------------------------\u001b[0m",
      "\u001b[0;31mAttributeError\u001b[0m                            Traceback (most recent call last)",
      "\u001b[0;32m<ipython-input-4-811d5caa045b>\u001b[0m in \u001b[0;36m<module>\u001b[0;34m\u001b[0m\n\u001b[1;32m      1\u001b[0m \u001b[0mreptile\u001b[0m \u001b[0;34m=\u001b[0m \u001b[0mReptile\u001b[0m\u001b[0;34m(\u001b[0m\u001b[0;34m)\u001b[0m\u001b[0;34m\u001b[0m\u001b[0;34m\u001b[0m\u001b[0m\n\u001b[0;32m----> 2\u001b[0;31m \u001b[0mreptile\u001b[0m\u001b[0;34m.\u001b[0m\u001b[0mwalk\u001b[0m\u001b[0;34m(\u001b[0m\u001b[0;34m)\u001b[0m  \u001b[0;31m# user code\u001b[0m\u001b[0;34m\u001b[0m\u001b[0;34m\u001b[0m\u001b[0m\n\u001b[0m",
      "\u001b[0;31mAttributeError\u001b[0m: 'Reptile' object has no attribute 'walk'"
     ]
    }
   ],
   "source": [
    "reptile = Reptile()\n",
    "reptile.walk()  # user code"
   ]
  },
  {
   "cell_type": "markdown",
   "metadata": {
    "slideshow": {
     "slide_type": "slide"
    }
   },
   "source": [
    "## Covenant 5. Delete Features Gently"
   ]
  },
  {
   "cell_type": "markdown",
   "metadata": {
    "slideshow": {
     "slide_type": "fragment"
    }
   },
   "source": [
    "Step 1. Introduce new API while keeping the old API in place."
   ]
  },
  {
   "cell_type": "code",
   "execution_count": 5,
   "metadata": {
    "ExecuteTime": {
     "end_time": "2019-06-26T21:19:56.850661Z",
     "start_time": "2019-06-26T21:19:56.847379Z"
    },
    "slideshow": {
     "slide_type": "-"
    }
   },
   "outputs": [],
   "source": [
    "class Reptile:\n",
    "    def walk(self):\n",
    "        print('step step step')\n",
    "\n",
    "    def slither(self):\n",
    "        print('slide slide slide')"
   ]
  },
  {
   "cell_type": "markdown",
   "metadata": {
    "slideshow": {
     "slide_type": "slide"
    }
   },
   "source": [
    "## Covenant 5. Delete Features Gently"
   ]
  },
  {
   "cell_type": "markdown",
   "metadata": {
    "slideshow": {
     "slide_type": "-"
    }
   },
   "source": [
    "Step 2. Mark old feature as deprecated."
   ]
  },
  {
   "cell_type": "code",
   "execution_count": 6,
   "metadata": {
    "ExecuteTime": {
     "end_time": "2019-06-26T21:19:59.076932Z",
     "start_time": "2019-06-26T21:19:59.073451Z"
    },
    "slideshow": {
     "slide_type": "-"
    }
   },
   "outputs": [],
   "source": [
    "import warnings\n",
    "\n",
    "\n",
    "class Reptile:\n",
    "    def walk(self):\n",
    "        warnings.warn(\"walk is depracated, use slither\",\n",
    "                      DeprecationWarning, stacklevel=2)\n",
    "        print('step step step')\n",
    "\n",
    "    def slither(self):\n",
    "        print('slide slide slide')"
   ]
  },
  {
   "cell_type": "markdown",
   "metadata": {
    "slideshow": {
     "slide_type": "-"
    }
   },
   "source": [
    "note: `stacklevel=2` tells users what line in their code they need to change"
   ]
  },
  {
   "cell_type": "markdown",
   "metadata": {
    "slideshow": {
     "slide_type": "fragment"
    }
   },
   "source": [
    "We are still not ready to delete the `slither` method though. We need to teach our users how to upgrade safely..."
   ]
  },
  {
   "cell_type": "markdown",
   "metadata": {
    "slideshow": {
     "slide_type": "slide"
    }
   },
   "source": [
    "## Covenant 6. Maintain a Change Log\n",
    "\n",
    "Document new features and decrecations, and when features will be removed in the future."
   ]
  },
  {
   "cell_type": "markdown",
   "metadata": {
    "slideshow": {
     "slide_type": "slide"
    }
   },
   "source": [
    "## Covenant 7. Choose a versioning scheme\n",
    "\n",
    "Semantic versioning [semver.org] most popular - see PEP 440 (but sometimes time-based versioning makes sense).\n",
    "\n",
    "- 1.0 First \"stable\" release\n",
    "- 1.1 Add slither(), deprecate walk()\n",
    "- 2.0 Delete walk()\n",
    "\n",
    "Major releases are where breaking changes, like removing a feature, should occur."
   ]
  },
  {
   "cell_type": "markdown",
   "metadata": {
    "slideshow": {
     "slide_type": "slide"
    }
   },
   "source": [
    "## Covenant 8. Write an Update Guide\n",
    "\n",
    "Instructing users that they should upgrade to the last minor version before the new major version (the \"bridge release\"), and test their code by running it with `python -W::DeprecationWarning`, to make sure they are ready for the upgrade."
   ]
  },
  {
   "cell_type": "markdown",
   "metadata": {
    "slideshow": {
     "slide_type": "slide"
    }
   },
   "source": [
    "# Adding/Changing Parameters"
   ]
  },
  {
   "cell_type": "markdown",
   "metadata": {
    "slideshow": {
     "slide_type": "slide"
    }
   },
   "source": [
    "## Covenant 9. Add Parameters Compatibly"
   ]
  },
  {
   "cell_type": "code",
   "execution_count": 7,
   "metadata": {
    "ExecuteTime": {
     "end_time": "2019-06-26T21:20:08.837793Z",
     "start_time": "2019-06-26T21:20:08.834778Z"
    },
    "slideshow": {
     "slide_type": "fragment"
    }
   },
   "outputs": [
    {
     "name": "stdout",
     "output_type": "stream",
     "text": [
      "slither north\n"
     ]
    }
   ],
   "source": [
    "def move(direction):\n",
    "    print(f'slither {direction}')\n",
    "    \n",
    "# user's application\n",
    "move('north')"
   ]
  },
  {
   "cell_type": "markdown",
   "metadata": {
    "slideshow": {
     "slide_type": "fragment"
    }
   },
   "source": [
    "Suppose you've added wings to your reptile, so now it can move by slithering *or* flying. We want to add a mode parameter to our function to indicate how it should move."
   ]
  },
  {
   "cell_type": "markdown",
   "metadata": {
    "slideshow": {
     "slide_type": "slide"
    }
   },
   "source": [
    "## Covenant 9. Add Parameters Compatibly"
   ]
  },
  {
   "cell_type": "code",
   "execution_count": 8,
   "metadata": {
    "ExecuteTime": {
     "end_time": "2019-06-26T21:20:14.039105Z",
     "start_time": "2019-06-26T21:20:14.032026Z"
    },
    "slideshow": {
     "slide_type": "-"
    }
   },
   "outputs": [
    {
     "ename": "TypeError",
     "evalue": "move() missing 1 required positional argument: 'mode'",
     "output_type": "error",
     "traceback": [
      "\u001b[0;31m---------------------------------------------------------------------------\u001b[0m",
      "\u001b[0;31mTypeError\u001b[0m                                 Traceback (most recent call last)",
      "\u001b[0;32m<ipython-input-8-f158085caa36>\u001b[0m in \u001b[0;36m<module>\u001b[0;34m\u001b[0m\n\u001b[1;32m      4\u001b[0m \u001b[0;34m\u001b[0m\u001b[0m\n\u001b[1;32m      5\u001b[0m \u001b[0;31m# user's application\u001b[0m\u001b[0;34m\u001b[0m\u001b[0;34m\u001b[0m\u001b[0;34m\u001b[0m\u001b[0m\n\u001b[0;32m----> 6\u001b[0;31m \u001b[0mmove\u001b[0m\u001b[0;34m(\u001b[0m\u001b[0;34m'north'\u001b[0m\u001b[0;34m)\u001b[0m\u001b[0;34m\u001b[0m\u001b[0;34m\u001b[0m\u001b[0m\n\u001b[0m",
      "\u001b[0;31mTypeError\u001b[0m: move() missing 1 required positional argument: 'mode'"
     ]
    }
   ],
   "source": [
    "def move(direction, mode):\n",
    "    assert mode in ('slither', 'fly')\n",
    "    print(f'{mode} {direction}')\n",
    "    \n",
    "# user's application\n",
    "move('north')"
   ]
  },
  {
   "cell_type": "markdown",
   "metadata": {
    "slideshow": {
     "slide_type": "slide"
    }
   },
   "source": [
    "## Covenant 9. Add Parameters Compatibly\n",
    "\n",
    "New parameters should be given defaults that preserve the old behavior."
   ]
  },
  {
   "cell_type": "code",
   "execution_count": 9,
   "metadata": {
    "ExecuteTime": {
     "end_time": "2019-06-26T21:20:22.487722Z",
     "start_time": "2019-06-26T21:20:22.483926Z"
    }
   },
   "outputs": [
    {
     "name": "stdout",
     "output_type": "stream",
     "text": [
      "slither north\n"
     ]
    }
   ],
   "source": [
    "def move(direction, mode='slither'):\n",
    "    assert mode in ('slither', 'fly')\n",
    "    print(f'{mode} {direction}')\n",
    "    \n",
    "# user's application\n",
    "move('north')"
   ]
  },
  {
   "cell_type": "markdown",
   "metadata": {
    "slideshow": {
     "slide_type": "slide"
    }
   },
   "source": [
    "## Covenant 9. Add Parameters Compatibly\n",
    "\n",
    "List new parameters in the order in which they were added... However there is still a risk because users *can* pass their parameters without specifying names."
   ]
  },
  {
   "cell_type": "code",
   "execution_count": null,
   "metadata": {
    "slideshow": {
     "slide_type": "-"
    }
   },
   "outputs": [],
   "source": [
    "def move(direction,\n",
    "         mode='slither',\n",
    "         turbo=False,\n",
    "         extra_sinuous=False,\n",
    "         hail_lyft=False):\n",
    "    # ...\n",
    "    \n",
    "# poorly written user application could be\n",
    "move('north', 'slither', False, True)"
   ]
  },
  {
   "cell_type": "markdown",
   "metadata": {
    "slideshow": {
     "slide_type": "fragment"
    }
   },
   "source": [
    "Suppose `turbo` parameter is outdated and we want to delete it. User's code will still run but it will be doing something different than intended."
   ]
  },
  {
   "cell_type": "markdown",
   "metadata": {
    "slideshow": {
     "slide_type": "slide"
    }
   },
   "source": [
    "## Explicit deprecation pattern\n",
    "\n",
    "Will raise a warning if user is setting a parameter that will be deleted in the future. Then remove in next major release."
   ]
  },
  {
   "cell_type": "code",
   "execution_count": 10,
   "metadata": {
    "ExecuteTime": {
     "end_time": "2019-06-26T21:20:31.935293Z",
     "start_time": "2019-06-26T21:20:31.931730Z"
    },
    "slideshow": {
     "slide_type": "-"
    }
   },
   "outputs": [],
   "source": [
    "_turbo_default = object()\n",
    "\n",
    "def move(direction,\n",
    "         mode='slither',\n",
    "         turbo=_turbo_default,\n",
    "         extra_sinuous=False,\n",
    "         hail_lyft=False):\n",
    "    if turbo is not _turbo_default:\n",
    "        warnings.warn('turbo is deprecated', DeprecationWarning, stacklevel=2)\n",
    "    else:\n",
    "        # the old default\n",
    "        turbo = False"
   ]
  },
  {
   "cell_type": "markdown",
   "metadata": {
    "slideshow": {
     "slide_type": "slide"
    }
   },
   "source": [
    "## Require users to pass parameters by name\n",
    "\n",
    "Even better approach if you can plan ahead and implement before you ever need to remove parameters."
   ]
  },
  {
   "cell_type": "code",
   "execution_count": 11,
   "metadata": {
    "ExecuteTime": {
     "end_time": "2019-06-26T21:20:37.162672Z",
     "start_time": "2019-06-26T21:20:37.159343Z"
    },
    "slideshow": {
     "slide_type": "-"
    }
   },
   "outputs": [],
   "source": [
    "def move(direction,\n",
    "         *,\n",
    "         mode='slither',\n",
    "         turbo=False,\n",
    "         extra_sinuous=False,\n",
    "         hail_lyft=False):\n",
    "    # ...\n",
    "    return"
   ]
  },
  {
   "cell_type": "markdown",
   "metadata": {
    "slideshow": {
     "slide_type": "-"
    }
   },
   "source": [
    "All parameters after asterisk can only be passed by name (Python 3). Now if you delete parameters you know it will either raise an error for your user or will not cause any problems."
   ]
  },
  {
   "cell_type": "markdown",
   "metadata": {
    "slideshow": {
     "slide_type": "slide"
    }
   },
   "source": [
    "## Require users to pass parameters by name\n",
    "\n",
    "Even better approach if you can plan ahead and implement before you ever need to remove parameters."
   ]
  },
  {
   "cell_type": "code",
   "execution_count": 12,
   "metadata": {
    "ExecuteTime": {
     "end_time": "2019-06-26T21:20:47.340454Z",
     "start_time": "2019-06-26T21:20:47.337567Z"
    },
    "slideshow": {
     "slide_type": "-"
    }
   },
   "outputs": [],
   "source": [
    "def move(direction,\n",
    "         *,\n",
    "         mode='slither',\n",
    "         turbo=False,\n",
    "         extra_sinuous=False,\n",
    "         hail_lyft=False):\n",
    "    # ...\n",
    "    return"
   ]
  },
  {
   "cell_type": "code",
   "execution_count": 13,
   "metadata": {
    "ExecuteTime": {
     "end_time": "2019-06-26T21:20:48.487724Z",
     "start_time": "2019-06-26T21:20:48.485299Z"
    },
    "slideshow": {
     "slide_type": "-"
    }
   },
   "outputs": [],
   "source": [
    "move('northeast', mode='slither')"
   ]
  },
  {
   "cell_type": "code",
   "execution_count": 14,
   "metadata": {
    "ExecuteTime": {
     "end_time": "2019-06-26T21:20:49.309916Z",
     "start_time": "2019-06-26T21:20:49.302259Z"
    },
    "slideshow": {
     "slide_type": "fragment"
    }
   },
   "outputs": [
    {
     "ename": "TypeError",
     "evalue": "move() takes 1 positional argument but 2 were given",
     "output_type": "error",
     "traceback": [
      "\u001b[0;31m---------------------------------------------------------------------------\u001b[0m",
      "\u001b[0;31mTypeError\u001b[0m                                 Traceback (most recent call last)",
      "\u001b[0;32m<ipython-input-14-42bec378ff2d>\u001b[0m in \u001b[0;36m<module>\u001b[0;34m\u001b[0m\n\u001b[0;32m----> 1\u001b[0;31m \u001b[0mmove\u001b[0m\u001b[0;34m(\u001b[0m\u001b[0;34m'northeast'\u001b[0m\u001b[0;34m,\u001b[0m \u001b[0;34m'slither'\u001b[0m\u001b[0;34m)\u001b[0m\u001b[0;34m\u001b[0m\u001b[0;34m\u001b[0m\u001b[0m\n\u001b[0m",
      "\u001b[0;31mTypeError\u001b[0m: move() takes 1 positional argument but 2 were given"
     ]
    }
   ],
   "source": [
    "move('northeast', 'slither')"
   ]
  },
  {
   "cell_type": "markdown",
   "metadata": {
    "slideshow": {
     "slide_type": "slide"
    }
   },
   "source": [
    "## Covenant 10. Change Behavior Gradually\n",
    "\n",
    "Changing Behavior, without changing the API:\n",
    "\n",
    "1. Add a flag to opt-in to new behavior (in minor release)\n",
    "  - default False\n",
    "  - warn if its False\n",
    "2. Change default to True, deprecate flag entirely (next major release)\n",
    "3. Remove the flag (in next major release after that)"
   ]
  },
  {
   "cell_type": "markdown",
   "metadata": {
    "slideshow": {
     "slide_type": "slide"
    }
   },
   "source": [
    "# API Evolution the Right Way\n",
    "\n",
    "### A. Jesse Jiryu Davis\n",
    "\n",
    "- Read the written version in his blog: [empti.ly/api-evolution](https://emptysqua.re/blog/api-evolution-the-right-way/)\n",
    "- Watch the PyCon talk: https://www.youtube.com/watch?v=dqDnB6jKzcE"
   ]
  },
  {
   "cell_type": "markdown",
   "metadata": {
    "slideshow": {
     "slide_type": "slide"
    }
   },
   "source": [
    "# Escape from Auto-manual Testing with Hypothesis\n",
    "\n",
    "### Zac Hatfield-Dodds\n",
    "\n",
    "Zac is a researcher at the Australian National University’s 3A Institute, which is building a new applied science to 'manage the machines' - AI, cyber-physical systems, and other new technologies. He started using Python to analyse huge environmental datasets, and contributing to libraries like Xarray to make such analysis easier for all scientists. Now, as a maintainer of Hypothesis, Pytest, and Trio, Zac is still passionate about making it easy to write software you can understand and rely on. When not at a computer he can usually be found surrounded by books of all kinds, the Australian bush, or both."
   ]
  },
  {
   "cell_type": "markdown",
   "metadata": {
    "slideshow": {
     "slide_type": "slide"
    }
   },
   "source": [
    "`Hypothesis` is a Python package for **property based testing**: instead of testing exact inputs and outputs you describe the types of inputs that your function should accept, and assert things that should be true about the output. \n",
    "\n",
    "https://hypothesis.works/\n",
    "\n",
    "Hypothesis will generate many examples of input data fitting your description, and run them all through your test, reporting back minimal (usually) failing examples."
   ]
  },
  {
   "cell_type": "code",
   "execution_count": 15,
   "metadata": {
    "ExecuteTime": {
     "end_time": "2019-06-26T21:20:59.314155Z",
     "start_time": "2019-06-26T21:20:58.893208Z"
    },
    "slideshow": {
     "slide_type": "slide"
    }
   },
   "outputs": [],
   "source": [
    "from hypothesis import given, strategies as st\n",
    "\n",
    "\n",
    "@given(st.lists(st.integers(), min_size=1))\n",
    "def test_a_sort_function(ls):\n",
    "\n",
    "    # we can compare a trusted implementation\n",
    "    assert dubious_sort(ls) == sorted(ls)\n",
    "    \n",
    "    # or check the properties we need directly\n",
    "    assert Counter(out) == Counter(ls)\n",
    "    assert all(a <= b for a, b in zip(out, out[1:]))"
   ]
  },
  {
   "cell_type": "markdown",
   "metadata": {
    "slideshow": {
     "slide_type": "slide"
    }
   },
   "source": [
    "### Testing Neural Networks\n",
    "\n",
    "State of the art of testing NN is terrible. Advice:\n",
    "- Use lots of assertions in your code\n",
    "- check that model weights get updated after a training step\n",
    "- check bounds on inputs/outputs of different steps\n",
    "- check that the model converges when you expect"
   ]
  },
  {
   "cell_type": "markdown",
   "metadata": {
    "slideshow": {
     "slide_type": "fragment"
    }
   },
   "source": [
    "python `optimize` flag (or environment variable) lets you run your code completely ignoring assertions, so you can have them run only when you are testing and not everytime you are training a model.\n",
    "\n",
    "```\n",
    "$ python -o train.py\n",
    "```"
   ]
  },
  {
   "cell_type": "markdown",
   "metadata": {
    "slideshow": {
     "slide_type": "slide"
    }
   },
   "source": [
    "## Print debugging\n",
    "\n",
    "`note()` is like `print()` but will only print stuff in the final minimal failing test case."
   ]
  },
  {
   "cell_type": "markdown",
   "metadata": {
    "slideshow": {
     "slide_type": "slide"
    }
   },
   "source": [
    "## Stateful Testing\n",
    "\n",
    "### The Water Jug Problem from Die Hard 3\n",
    "Original example from Nicholas Chammas: http://nchammas.com/writing/how-not-to-die-hard-with-hypothesis\n",
    "\n",
    "In the movie Die Hard with a Vengeance (aka Die Hard 3), there is a famous scene where John McClane (Bruce Willis) and Zeus Carver (Samuel L. Jackson) have to solve a problem or be blown up: **Given a 3 gallon jug and a 5 gallon jug, how do you measure out exactly 4 gallons of water?**\n",
    "https://www.youtube.com/watch?v=6cAbgAaEOVE"
   ]
  },
  {
   "cell_type": "markdown",
   "metadata": {
    "slideshow": {
     "slide_type": "slide"
    }
   },
   "source": [
    "## Stateful Testing\n",
    "\n",
    "**Given a 3 gallon jug and a 5 gallon jug, how do you measure out exactly 4 gallons of water?**\n",
    "\n",
    "We don't have a bomb handy, but we *can* make Hypothesis solve this for us! We just need to set up the state and possible actions... then we can claim that making random moves never leads to the \"solved\" state, and let Hypothesis find a counter-example.  Fortunately, Hypothesis will also shrink what it finds to a minimal sequence of actions!\n",
    "\n",
    "This pattern, where all the state lives on the `RuleBasedStateMachine`, is the easiest way to get started with stateful testing."
   ]
  },
  {
   "cell_type": "markdown",
   "metadata": {
    "slideshow": {
     "slide_type": "slide"
    }
   },
   "source": [
    "<img src=\"img/die_hard_test.png\" style=\"width: 500px;\">"
   ]
  },
  {
   "cell_type": "code",
   "execution_count": 16,
   "metadata": {
    "ExecuteTime": {
     "end_time": "2019-06-26T21:21:03.497399Z",
     "start_time": "2019-06-26T21:21:03.475220Z"
    },
    "slideshow": {
     "slide_type": "skip"
    }
   },
   "outputs": [],
   "source": [
    "# Given a 3 gallon jug and a 5 gallon jug, how do you measure\n",
    "# out exactly 4 gallons of water?\n",
    "\n",
    "from hypothesis import note, settings\n",
    "from hypothesis.stateful import RuleBasedStateMachine, rule, invariant\n",
    "\n",
    "\n",
    "@settings(max_examples=2000)\n",
    "class DieHardProblem(RuleBasedStateMachine):\n",
    "    small = 0\n",
    "    big = 0\n",
    "\n",
    "    @rule()\n",
    "    def fill_small(self):\n",
    "        self.small = 3\n",
    "\n",
    "    @rule()\n",
    "    def fill_big(self):\n",
    "        self.big = 5\n",
    "\n",
    "    @rule()\n",
    "    def empty_small(self):\n",
    "        self.small = 0\n",
    "\n",
    "    @rule()\n",
    "    def empty_big(self):\n",
    "        self.big = 0\n",
    "\n",
    "    @rule()\n",
    "    def pour_small_into_big(self):\n",
    "        old_big = self.big\n",
    "        self.big = min(5, self.big + self.small)\n",
    "        self.small = self.small - (self.big - old_big)\n",
    "\n",
    "    @rule()\n",
    "    def pour_big_into_small(self):\n",
    "        old_small = self.small\n",
    "        self.small = min(3, self.small + self.big)\n",
    "        self.big = self.big - (self.small - old_small)\n",
    "\n",
    "    @invariant()\n",
    "    def physics_of_jugs(self):\n",
    "        assert 0 <= self.small <= 3\n",
    "        assert 0 <= self.big <= 5\n",
    "\n",
    "    @invariant()\n",
    "    def die_hard_problem_not_solved(self):\n",
    "        note(\"> small: {s} big: {b}\".format(s=self.small, b=self.big))\n",
    "        assert self.big != 4\n",
    "\n",
    "\n",
    "DieHardTest = DieHardProblem.TestCase"
   ]
  },
  {
   "cell_type": "markdown",
   "metadata": {
    "slideshow": {
     "slide_type": "slide"
    }
   },
   "source": [
    "![die-hard-example](img/die_hard_full_output.png)"
   ]
  },
  {
   "cell_type": "markdown",
   "metadata": {
    "ExecuteTime": {
     "end_time": "2019-06-26T21:17:04.683935Z",
     "start_time": "2019-06-26T21:17:04.552792Z"
    },
    "slideshow": {
     "slide_type": "slide"
    }
   },
   "source": [
    "![die-hard-example](img/die_hard_output_solution.png)"
   ]
  },
  {
   "cell_type": "markdown",
   "metadata": {
    "slideshow": {
     "slide_type": "slide"
    }
   },
   "source": [
    "# Escape from Auto-manual Testing with Hypothesis\n",
    "\n",
    "### Zac Hatfield-Dodds\n",
    "\n",
    "- Watch the Pycon Talk: https://www.youtube.com/watch?v=KcyGUVzL7HA\n",
    "- or the PyCon Tutorial (3 hours): https://www.youtube.com/watch?v=SmBAl34RV4M&list=PLPbTDk1hBo3xof51R8pk3kP1BVBuMYP9c&index=6&t=48s\n",
    "  - with supporting GitHub repo here: https://github.com/Zac-HD/escape-from-automanual-testing"
   ]
  },
  {
   "cell_type": "markdown",
   "metadata": {
    "slideshow": {
     "slide_type": "slide"
    }
   },
   "source": [
    "# PEP 572: The Walrus Operator\n",
    "\n",
    "### Dustin Ingram\n",
    "\n",
    "Dustin is a Developer Advocate at Google, focused on supporting the Python community on the Google Cloud Platform. He's also a member of the Python Packaging Authority, maintainer of PyPI, and organizer for the PyTexas conference."
   ]
  },
  {
   "cell_type": "markdown",
   "metadata": {
    "slideshow": {
     "slide_type": "slide"
    }
   },
   "source": [
    "## What is the Walrus Operator?\n",
    "\n",
    "\"Named Expression Operator\" for assignment expressions using the newly defined `:=` operator, available in Python 3.8."
   ]
  },
  {
   "cell_type": "markdown",
   "metadata": {
    "slideshow": {
     "slide_type": "slide"
    }
   },
   "source": [
    "## Example 1:  Balancing Lines of Code vs complexity"
   ]
  },
  {
   "cell_type": "code",
   "execution_count": null,
   "metadata": {
    "slideshow": {
     "slide_type": "-"
    }
   },
   "outputs": [],
   "source": [
    "foo = [f(x), f(x)**2, f(x)**3]"
   ]
  },
  {
   "cell_type": "markdown",
   "metadata": {
    "slideshow": {
     "slide_type": "fragment"
    }
   },
   "source": [
    "If `f(x)` is expensive, we probably don't want to compute it three times. So we would do"
   ]
  },
  {
   "cell_type": "code",
   "execution_count": null,
   "metadata": {
    "slideshow": {
     "slide_type": "-"
    }
   },
   "outputs": [],
   "source": [
    "y = f(x)\n",
    "foo = [y, y**2, y**3]"
   ]
  },
  {
   "cell_type": "markdown",
   "metadata": {
    "slideshow": {
     "slide_type": "-"
    }
   },
   "source": [
    "But this is one two lines, and maybe we don't like that..."
   ]
  },
  {
   "cell_type": "markdown",
   "metadata": {
    "slideshow": {
     "slide_type": "fragment"
    }
   },
   "source": [
    "With the walrus operator you can do this"
   ]
  },
  {
   "cell_type": "code",
   "execution_count": null,
   "metadata": {
    "slideshow": {
     "slide_type": "-"
    }
   },
   "outputs": [],
   "source": [
    "foo = [y := f(x), y**2, y**3]"
   ]
  },
  {
   "cell_type": "markdown",
   "metadata": {
    "slideshow": {
     "slide_type": "slide"
    }
   },
   "source": [
    "## Example 2: Avoiding Inefficient Comprehensions"
   ]
  },
  {
   "cell_type": "code",
   "execution_count": null,
   "metadata": {
    "slideshow": {
     "slide_type": "-"
    }
   },
   "outputs": [],
   "source": [
    "results = []\n",
    "for x in data:\n",
    "    result = f(x)\n",
    "    if result:\n",
    "        results.append(result)"
   ]
  },
  {
   "cell_type": "code",
   "execution_count": null,
   "metadata": {
    "slideshow": {
     "slide_type": "fragment"
    }
   },
   "outputs": [],
   "source": [
    "# probably nicer/cleaner in a list comprehension\n",
    "result = [f(x) for x in data if f(x)]\n",
    "\n",
    "# but this is more inefficient..."
   ]
  },
  {
   "cell_type": "code",
   "execution_count": null,
   "metadata": {
    "slideshow": {
     "slide_type": "fragment"
    }
   },
   "outputs": [],
   "source": [
    "# with the walrus operator we can have it both ways\n",
    "result = [y for x in data if (y := f(x))]"
   ]
  },
  {
   "cell_type": "markdown",
   "metadata": {
    "slideshow": {
     "slide_type": "slide"
    }
   },
   "source": [
    "## Example 3: Unnecessary Variables in Scope"
   ]
  },
  {
   "cell_type": "code",
   "execution_count": null,
   "metadata": {
    "slideshow": {
     "slide_type": "-"
    }
   },
   "outputs": [],
   "source": [
    "# old way\n",
    "chunk = file.read(8192)\n",
    "while chunk:\n",
    "    process(chunk)\n",
    "    chunk = file.read(8192)"
   ]
  },
  {
   "cell_type": "code",
   "execution_count": null,
   "metadata": {
    "slideshow": {
     "slide_type": "fragment"
    }
   },
   "outputs": [],
   "source": [
    "# new way\n",
    "while chunk := file.read(8192):\n",
    "    process(chunk)"
   ]
  },
  {
   "cell_type": "markdown",
   "metadata": {
    "slideshow": {
     "slide_type": "slide"
    }
   },
   "source": [
    "## Reception of PEP 572\n",
    "\n",
    "- This was a particularly controversial PEP, around May 2018\n",
    "- polls, lengthly mailing list threads, discussions, arguments...\n",
    "- eventually Guido Van Rossum accepted and merged this proposal in July 2018\n",
    "  - *and then stepped down from his position as BDFL*"
   ]
  },
  {
   "cell_type": "markdown",
   "metadata": {
    "slideshow": {
     "slide_type": "fragment"
    }
   },
   "source": [
    "\"Now that PEP 572 is done, I don't ever want to have to fight so hard for a PEP and find that so many people despise my decisions.\""
   ]
  },
  {
   "cell_type": "markdown",
   "metadata": {
    "slideshow": {
     "slide_type": "slide"
    }
   },
   "source": [
    "## New Python Governance Model\n",
    "\n",
    "Without a BDFL, there was no way to move forward with changes to the language.\n",
    "\n",
    "- PEP 8000: Python Language Governance Proposal Overview\n",
    "- PEP 8001: Python Governance Voting Process\n",
    "\n",
    "... lots of proposals...\n",
    "\n",
    "- PEP 8016: Steering Council Model was accepted\n",
    "  - Elected 5 person committee who can accept or reject PEPs, plus some other limited powers."
   ]
  }
 ],
 "metadata": {
  "celltoolbar": "Slideshow",
  "kernelspec": {
   "display_name": "Python 3",
   "language": "python",
   "name": "python3"
  },
  "language_info": {
   "codemirror_mode": {
    "name": "ipython",
    "version": 3
   },
   "file_extension": ".py",
   "mimetype": "text/x-python",
   "name": "python",
   "nbconvert_exporter": "python",
   "pygments_lexer": "ipython3",
   "version": "3.7.2"
  }
 },
 "nbformat": 4,
 "nbformat_minor": 2
}
